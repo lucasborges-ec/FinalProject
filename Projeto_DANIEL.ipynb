{
 "cells": [
  {
   "cell_type": "markdown",
   "metadata": {},
   "source": [
    "Universidade Federal do Rio Grande do Sul (UFRGS)   \n",
    "Programa de Pós-Graduação em Engenharia Civil (PPGEC)   \n",
    "\n",
    "# PEC00144: Métodos experimentais na engenharia civil\n",
    "\n",
    "### Trabalho final\n",
    "_Adriano Rodrigues da Silva_ \n",
    "\n",
    "_Daniel Barbosa Mapurunga Matos_\n"
   ]
  },
  {
   "cell_type": "code",
   "execution_count": 1,
   "metadata": {},
   "outputs": [],
   "source": [
    "import numpy as np\n",
    "import pandas as pd\n",
    "import matplotlib.pyplot as plt\n",
    "import scipy.linalg as sc\n",
    "import scipy.stats as st\n",
    "from MRPy import *\n",
    "\n",
    "# Importando a matriz dimensional\n",
    "DimData = pd.read_excel('resources/DimData.xlsx')\n"
   ]
  },
  {
   "cell_type": "markdown",
   "metadata": {},
   "source": [
    "## 1. Introdução\n",
    "\n",
    " Este trabalho consiste no projeto e ensaio de um modelo reduzido e está dividido como apresentado abaixo:\n",
    " \n",
    "\n",
    " * Projeto de modelo reduzido;\n",
    " * Construção do modelo reduzido;\n",
    " * Análise da propagação de erro;\n",
    " * Análise do sinal;\n",
    " * Instrumentação;\n",
    " * Análise do sinal;\n",
    " * Conclusão.\n",
    "\n",
    "O modelo real consiste em um _Shear building_ de 3 pavimentos, com suas características expostas abaixo:\n",
    "\n",
    "* Dimensões dos pilares:   \n",
    "\n",
    "  $B\\times H = 0.7 \\times 0.2{\\rm m}$  \n",
    "  \n",
    "  Propriedades da seção:    \n",
    "  \n",
    "  $A = 0.14{\\rm m}^2$ e $I = 0.000466 {\\rm m}^4$ <br>\n",
    "  \n",
    "* Massa de um pavimento:   \n",
    "\n",
    "  $m = 28000 {\\rm kg}$    \n",
    "  \n",
    "*  Altura dos pilares: \n",
    "\n",
    "  $h =3{\\rm m}$ <br>\n",
    "  \n",
    "* Módulo de elasticidade do concreto:\n",
    "\n",
    "  $E_{\\rm c} = 28 \\times 10^{9} {\\rm N/m}^2$  \n",
    "  \n",
    "  \n",
    "* Rigidez à flexão:\n",
    "\n",
    "  $ E_cI = 13.04 * 10^6 Nm^2 $\n",
    "  \n",
    "  \n",
    "* Rigidez do pilar:    \n",
    "\n",
    "  $ K = \\frac{12 E_cI}{h^3} = 57.99*10^6 N/m$\n",
    "\n",
    "O objetivo desta análise é a determinação da frequência fundamental de vibração da estrutura por meio de ensaios e verificar se estes resultados convergem para os valores calculados por meio das expressões disponíveis na literatura.\n",
    "\n"
   ]
  },
  {
   "cell_type": "markdown",
   "metadata": {},
   "source": [
    "## 2. Projeto de modelo reduzido \n",
    "\n",
    "Para a realização do projeto de modelo reduzido, é necessário definir as 3 grandezas que formarão a nova base da matriz dimensional. Para isto, como o modelo visa a análise das frequências naturais, utiliza-se como nova base as grandezas de comprimento, massa e rigidez à flexão."
   ]
  },
  {
   "cell_type": "code",
   "execution_count": 163,
   "metadata": {},
   "outputs": [
    {
     "name": "stdout",
     "output_type": "stream",
     "text": [
      "    L  M  T\n",
      "L   1  0  0\n",
      "a   1  0 -2\n",
      "EI  3  1 -2\n"
     ]
    }
   ],
   "source": [
    "ABC    = ['L', 'a', 'EI']           \n",
    "LMT    = ['L', 'M', 'T']           \n",
    "base   =  DimData.loc[ABC, LMT]    \n",
    "i_base =  np.linalg.inv(base)      \n",
    "\n",
    "print(base)"
   ]
  },
  {
   "cell_type": "markdown",
   "metadata": {},
   "source": [
    "Para definir o fator de escala da rigidez à flexão, é necessário impor as dimensões da seção transversal utilizada no modelo reduzido e o material que será utilizado. No presente estudo, será utilizada uma chapa de dimensões $ 23 \\times 0.5 mm$. Abaixo está apresentado o cálculo da rigidez à flexão do modelo reduzido. \n",
    "* Módulo de elasticidade do alumínio\n",
    "$$ E = 71 GPa $$\n",
    "* Momento de inércia da seção\n",
    "$$ I = \\frac{0.023 * 0.0005^3}{12} = 2.39*10^{-13} m^4$$\n",
    "* Rigidez à flexão\n",
    "$$ EI = 0.017014 Nm^2 $$"
   ]
  },
  {
   "cell_type": "markdown",
   "metadata": {},
   "source": [
    "As escalas adotadas no modelo são:"
   ]
  },
  {
   "cell_type": "code",
   "execution_count": 164,
   "metadata": {},
   "outputs": [],
   "source": [
    "λ_L    =  1/30                         # Escala de comprimento do modelo reduzido\n",
    "λ_a    =  1                            # Escala de acelração\n",
    "λ_EI    = 0.017014/(13.04*10**6)       # Modelo construído em alumínio com seção(0.5X23mm)\n"
   ]
  },
  {
   "cell_type": "markdown",
   "metadata": {},
   "source": [
    "Agora, é possível calcular o valor das gradezas desejadas em função da nova base dimensional."
   ]
  },
  {
   "cell_type": "code",
   "execution_count": 165,
   "metadata": {},
   "outputs": [
    {
     "name": "stdout",
     "output_type": "stream",
     "text": [
      "    L  M  T\n",
      "f   0  0 -1\n",
      "EI  3  1 -2\n",
      "m   0  1  0\n"
     ]
    }
   ],
   "source": [
    "par    = ['f', 'EI', 'm']              \n",
    "npar   =  len(par)                     \n",
    "DimMat =  DimData.loc[par, LMT]        \n",
    "\n",
    "print(DimMat)"
   ]
  },
  {
   "cell_type": "code",
   "execution_count": 166,
   "metadata": {},
   "outputs": [
    {
     "name": "stdout",
     "output_type": "stream",
     "text": [
      "               L    a   EI\n",
      "f  -5.000000e-01  0.5  0.0\n",
      "EI  4.440892e-16  0.0  1.0\n",
      "m  -2.000000e+00 -1.0  1.0\n"
     ]
    }
   ],
   "source": [
    "scales =  np.tile([λ_L, λ_a, λ_EI],(npar,1))  \n",
    "\n",
    "NewMat = pd.DataFrame(data    = np.matmul(DimMat, i_base),\n",
    "                      index   = DimMat.index,\n",
    "                      columns = ABC)\n",
    "print(NewMat)"
   ]
  },
  {
   "cell_type": "markdown",
   "metadata": {},
   "source": [
    "por fim, calculam-se as escalas:"
   ]
  },
  {
   "cell_type": "code",
   "execution_count": 173,
   "metadata": {},
   "outputs": [
    {
     "name": "stdout",
     "output_type": "stream",
     "text": [
      "Frequência:             λ_f  = 1:0.18257 \n",
      "Rigidez à flexão:       λ_EI = 1:766427648 \n",
      "Massa:                  λ_m  = 1:851586.3\n"
     ]
    }
   ],
   "source": [
    "[λ_f, λ_EI, λ_m]  = np.prod(scales**NewMat, axis=1);\n",
    "\n",
    "print('Frequência:             λ_f  = 1:{0:4.5f}'.format(1/λ_f),  '\\n'\n",
    "      'Rigidez à flexão:       λ_EI = 1:{0:4.0f}'.format(1/λ_EI), '\\n' \n",
    "      'Massa:                  λ_m  = 1:{0:4.1f}'.format(1/λ_m))"
   ]
  },
  {
   "cell_type": "markdown",
   "metadata": {},
   "source": [
    "Sendo assim, o valor da massa por pavimento será:"
   ]
  },
  {
   "cell_type": "code",
   "execution_count": 168,
   "metadata": {},
   "outputs": [
    {
     "name": "stdout",
     "output_type": "stream",
     "text": [
      "Massa do pavimento:     32.880g\n"
     ]
    }
   ],
   "source": [
    "print('Massa do pavimento:     {0:5.3f}g'.format(28000*λ_m*1000))"
   ]
  },
  {
   "cell_type": "markdown",
   "metadata": {},
   "source": [
    "## 3. Construção do modelo reduzido\n",
    "Para a construção do modelo, utilizou-se tiras de chapa de alumínio, de seção $ 23 \\times 0.5 mm $ conforme especificado no projeto. O comprimento destas tiras é 35 cm, sendo 30 cm o valor calculado em projeto e os outros 5 cm para realizar o engaste na base. Para representar as massas, serão utilizadas cantoneiras de alumínio, de massa por comprimento linear igual a $1.82g/cm$. Para representar os engastes, serão utilizadas 12 presilhas( 4 em cada pavimento) de papel junto a 6 suportes de alumínio(2 por pavimento), que serão tratadas como variáveis aleatórias. A rotina a seguir calcula a média e o desvio padrão destas variáveis, assim como o tamanho da cantoneira que deverá ser utilizada no modelo."
   ]
  },
  {
   "cell_type": "code",
   "execution_count": 169,
   "metadata": {},
   "outputs": [
    {
     "name": "stdout",
     "output_type": "stream",
     "text": [
      "-------------------------------------------- \n",
      " Massa média da presilha:            2.18g \n",
      " Desvio padrão da presilha:          0.02g \n",
      " Massa média do suporte:             3.60g \n",
      " Desvio padrão do suporte:           0.01g \n",
      " Comprimento da cantoneira:          9.32cm \n",
      " --------------------------------------------\n"
     ]
    }
   ],
   "source": [
    "m_p = [2.18,2.16,2.18,2.21,2.12,2.19,2.18,2.17,2.20,2.16,2.18,2.20] #massa das presilhas em [g]\n",
    "m_s = [3.61,3.59,3.62,3.60,3.60,3.59]                               #massa dos suportes em  [g]\n",
    "\n",
    "mi_p = np.mean(m_p)\n",
    "sigma_p = np.std(m_p)\n",
    "\n",
    "mi_s = np.mean(m_s)\n",
    "sigma_s = np.std(m_s)\n",
    "\n",
    "lc = (28000*λ_m*1000 - 4*mi_p - 2*mi_s)/1.82                     # Comprimento da cantoneira\n",
    "\n",
    "print('--------------------------------------------','\\n',\n",
    "      'Massa média da presilha:           {0:5.2f}g'.format(mi_p),'\\n',\n",
    "      'Desvio padrão da presilha:         {0:5.2f}g'.format(sigma_p),'\\n',\n",
    "      'Massa média do suporte:            {0:5.2f}g'.format(mi_s),'\\n',\n",
    "      'Desvio padrão do suporte:          {0:5.2f}g'.format(sigma_s),'\\n',\n",
    "      'Comprimento da cantoneira:         {0:5.2f}cm'.format(lc),'\\n',\n",
    "      '--------------------------------------------')\n"
   ]
  },
  {
   "cell_type": "markdown",
   "metadata": {},
   "source": [
    "Para calcular o valor massa por pavimento, considera-se ela uma função de variáveis aleatórias, sendo expressa por:\n",
    "\\begin{equation}\n",
    "M = 4m_p + 2m_s + 1.82l_c\n",
    "\\end{equation}\n",
    "Em que $m_p$ e $m_s$ são, respectivamente, as massas da presilha e do suporte que serão consideradas variáveis aleatórias. Já que a função mostrada acima é linear, sendo as varáveis consideradas não correlacionadas, é possível utilizar a seguinte expressão para calcular o desvio padrão da massa do pavimento:\n",
    "\\begin{equation}\n",
    "\\sigma_M^2 = \\sum_{i=1}^{n} a_i^2 \\sigma_X^2\n",
    "\\end{equation}\n",
    "Sendo $a_i$ coeficientes que multiplicam as variáveis e  $\\sigma_X$ o desvio padrão de cada variável."
   ]
  },
  {
   "cell_type": "code",
   "execution_count": 175,
   "metadata": {},
   "outputs": [
    {
     "name": "stdout",
     "output_type": "stream",
     "text": [
      "-------------------------------------------- \n",
      " Massa média de um pavimento:          32.88g \n",
      " Desvio Padrão:                         0.09g \n",
      " --------------------------------------------\n"
     ]
    }
   ],
   "source": [
    "mi_M = 4* mi_p + 2* mi_s+ lc*1.82\n",
    "sigma_M = np.sqrt((4*sigma_p)**2+(2*sigma_s)**2)\n",
    "print('--------------------------------------------','\\n',\n",
    "      'Massa média de um pavimento:          {0:5.2f}g'.format(mi_M),'\\n',\n",
    "      'Desvio Padrão:                        {0:5.2f}g'.format(sigma_M),'\\n',\n",
    "      '--------------------------------------------')\n",
    "\n"
   ]
  },
  {
   "cell_type": "markdown",
   "metadata": {},
   "source": [
    "## 4. Análise da propagação de erro\n",
    "\n",
    "Para definir o erro da frequência natural, utiliza-se uma simulação de Monte Carlo, considerando como variáveis aleatórias gaussianas o momento de inércia de área,onde admite-se um erro de 5% devido a imprecisão no corte da chapa, e a massa dos pavimentos, conforme foi calculado no terceiro tópico deste trabalho. Os valores médios e seus respectivos desvios padrões estão apresentados abaixo:\n",
    "\n",
    "$$ I = 2.39 \\pm 0.1195 *10^{-13} m^4$$\n",
    "$$ M = 32.88 \\pm 0.09 g$$\n",
    "\n"
   ]
  },
  {
   "cell_type": "code",
   "execution_count": 177,
   "metadata": {},
   "outputs": [
    {
     "name": "stdout",
     "output_type": "stream",
     "text": [
      "--------------------------------------- \n",
      " Valor médio da frequência:     7.88hz \n",
      " Valor do erro:                 0.20hz \n",
      " Coeficiente de variação:       2.51% \n",
      " --------------------------------------\n"
     ]
    }
   ],
   "source": [
    "E = 71e9\n",
    "I = st.norm(2.39e-13,0.1195e-13)\n",
    "M = st.norm(32.88/1000,0.09/1000)\n",
    "#----------------------------------#\n",
    "def autoval(E,I,L,M):\n",
    "    \n",
    "    K = 12*E*I/(L*L*L)\n",
    "    M_K = np.array([[4*K,-2*K,0],\n",
    "                   [-2*K, 4*K,-2*K],\n",
    "                   [0,-2*K,2*K]])\n",
    "    \n",
    "    M_M = np.identity(3)*M\n",
    "   \n",
    "    w21,Phi1 = sc.eig(M_K,M_M)\n",
    "\n",
    "\n",
    "\n",
    "    iw = w21.argsort()\n",
    "    w21 = w21[iw]                       \n",
    "    Phi1 = Phi1[:,iw]\n",
    "\n",
    "    wr = np.real(w21)\n",
    "    wk = np.sqrt(w21)\n",
    "    fk = wk/(2*np.pi)\n",
    "    \n",
    "    return fk[0]\n",
    "#------------------------------------#\n",
    "n = 50000\n",
    "ii = I.rvs(n)\n",
    "m = M.rvs(n)\n",
    "fi = []\n",
    "\n",
    "for i in range(n):\n",
    "    \n",
    "    f = autoval(E,ii[i],0.1,m[i])\n",
    "    fi += [f]\n",
    "    \n",
    "mi_f = np.mean(fi)\n",
    "sigma_f = np.std(fi)\n",
    "print('---------------------------------------','\\n',\n",
    "      'Valor médio da frequência:    {0:5.2f}hz'.format(np.real(mi_f)),'\\n',\n",
    "      'Valor do erro:                {0:5.2f}hz' .format(sigma_f),'\\n',\n",
    "      'Coeficiente de variação:      {0:5.2f}%'.format(sigma_f/np.real(mi_f)*100),'\\n',\n",
    "      '--------------------------------------')\n",
    "\n",
    "\n"
   ]
  },
  {
   "cell_type": "markdown",
   "metadata": {},
   "source": [
    "Afim de verificar o tipo de distribuição da frequência, plota-se a função de probabilidade acumulada e o histograma da resposta:"
   ]
  },
  {
   "cell_type": "code",
   "execution_count": 179,
   "metadata": {},
   "outputs": [
    {
     "data": {
      "image/png": "[encoded data removed]",
      "text/plain": [
       "<Figure size 864x360 with 2 Axes>"
      ]
     },
     "metadata": {
      "needs_background": "light"
     },
     "output_type": "display_data"
    }
   ],
   "source": [
    "\n",
    "fx = sorted(np.real(fi))      #Colocando em ordem as frequências\n",
    "fp = st.norm(mi_f,sigma_f)    # Criando uma distribuição gaussiana \n",
    "p = np.arange(0,n)/(n-1)      # Cálculo da função de probabilidade acumulada\n",
    "\n",
    "plt.figure(1,figsize=(12,5))\n",
    "\n",
    "plt.subplot(1,2,1)\n",
    "plt.title('Função de probabilidade acumulada',size = 12)\n",
    "plt.plot(fx,p,'black',drawstyle = 'steps')\n",
    "\n",
    "plt.axis([7, 8.5, 0, 1.1])\n",
    "plt.grid(True)\n",
    "plt.subplot(1,2,2)\n",
    "\n",
    "plt.title('Histograma')\n",
    "plt.hist(fx,bins= 64, range =(7,8.5),density= True,color = 'black',histtype = 'step')\n",
    "plt.plot(fx,fp.pdf(fx),'r:')\n",
    "plt.legend(('Função de probabilidade Gaussiana','Distribuição de probabilidades da resposta'))\n",
    "plt.grid(True)"
   ]
  },
  {
   "cell_type": "markdown",
   "metadata": {},
   "source": [
    "A partir do exposto, é notável que a distribuição de frequências também é do tipo gaussiana."
   ]
  },
  {
   "cell_type": "markdown",
   "metadata": {},
   "source": [
    "## 5. Instrumentação"
   ]
  },
  {
   "cell_type": "markdown",
   "metadata": {},
   "source": [
    "## 6. Análise do sinal"
   ]
  },
  {
   "cell_type": "markdown",
   "metadata": {},
   "source": [
    "## 7. Conclusões"
   ]
  }
 ],
 "metadata": {
  "kernelspec": {
   "display_name": "Python 3",
   "language": "python",
   "name": "python3"
  },
  "language_info": {
   "codemirror_mode": {
    "name": "ipython",
    "version": 3
   },
   "file_extension": ".py",
   "mimetype": "text/x-python",
   "name": "python",
   "nbconvert_exporter": "python",
   "pygments_lexer": "ipython3",
   "version": "3.7.3"
  }
 },
 "nbformat": 4,
 "nbformat_minor": 2
}
