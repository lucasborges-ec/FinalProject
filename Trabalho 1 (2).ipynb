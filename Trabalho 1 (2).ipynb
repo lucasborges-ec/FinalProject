{
 "cells": [
  {
   "cell_type": "markdown",
   "metadata": {},
   "source": [
    "Universidade Federal do Rio Grande do Sul (UFRGS)   \n",
    "Programa de Pós-Graduação em Engenharia Civil (PPGEC)   \n",
    "\n",
    "# PEC00144: Experimental Methods in Civil Engineering\n",
    "\n",
    "\n",
    "### Trabalho Final: Shear Building\n",
    "\n",
    "[1.   Introdução](#section_1)   \n",
    "[2.   Características do Modelo Reduzido](#section_2)   \n",
    "[2.1. Cálculo da Frequencia Natural do Modelo](#section_21)    \n",
    "[3.   Estrutura Real](#section_3)    \n",
    "[4.   Análise de Propagação de Erro](#section_4)    \n",
    "[5.   Intrumentação](#section_5)      \n",
    "[6.   Análise do Sinal](#section_6)     \n",
    "[7.   Conclusões](#section_7)    \n",
    "\n",
    "---\n",
    "_Flávio Antônio Ferreira, Doutorando_   \n",
    "_José Lucas Silva Borges, Mestrando_    \n",
    "_Porto Alegre, RS, Brazil_ \n"
   ]
  },
  {
   "cell_type": "code",
   "execution_count": 3,
   "metadata": {
    "scrolled": true
   },
   "outputs": [],
   "source": [
    "# Importing Python modules required for this notebook\n",
    "# (this cell must be executed with \"shift+enter\" before any other Python cell)\n",
    "\n",
    "import numpy as np\n",
    "import pandas as pd\n",
    "import matplotlib.pyplot as plt\n",
    "import scipy.linalg as sc\n",
    "import scipy.stats as st\n",
    "from MRPy import *\n",
    "\n",
    "# Importing pandas dataframe with dimension exponents for relevant quantities\n",
    "DimData = pd.read_excel('resources/DimData.xlsx', sheet_name='DimData', index_col=0)\n",
    "pi = np.pi;\n",
    "#print(DimData)"
   ]
  },
  {
   "cell_type": "markdown",
   "metadata": {},
   "source": [
    "### 1. Introdução <a name=\"section_1\"></a> \n",
    "\n",
    "Este trabalho consiste no ensaio de um modelo reduzido existente, feito em alumínio, que representa um Shear Building de 2 pavimentos, onde será utilizado um servo-motor para excitar a estrutura em sua frequência natural. Na sequencia serão realizados os cálculos de uma estrutura real em concreto armado que poderia ser representada por esse modelo.\n"
   ]
  },
  {
   "cell_type": "markdown",
   "metadata": {},
   "source": [
    "### 2. Características do Modelo Reduzido <a name=\"section_2\"></a> \n",
    "\n",
    "Para a construção do modelo, utilizou-se tiras de chapa de alumínio, de seção $ 20 \\times 0.5 mm $. O comprimento destas tiras é 40 cm. Para representar as massas dos pavimentos, serão utilizadas cantoneiras de alumínio, de massa por comprimento linear igual a $4.1g/cm$. Para representar os engastes, serão utilizadas 12 presilhas( 6 em cada pavimento) junto a 4 suportes de alumínio (2 por pavimento) feitos com a mesma cantoneira que representa a laje do pavimento.\n",
    "\n",
    "<img src=\"resources/shear building3.png\" alt=\"sag_tension\" width=\"240px\"/>\n",
    "\n",
    "O modelo reduzido a ser utilizado tem as seguintes caracterísitcas:\n",
    "\n",
    "* Dimensões das Colunas:    \n",
    "  $B \\times H = 5 \\times 20 {\\rm mm}$  \n",
    "* Altura das Colunas:    \n",
    "  $L_{\\rm 1} = 160  {\\rm mm}$    \n",
    "* Propriedades da Seção Transversal:    \n",
    "  $A = 10{\\rm mm}^2$ e $I = 208,3 \\times 10^{-3}{\\rm mm}^4$ <br>\n",
    "* Peso Específico do Alumínio:    \n",
    "  $\\rho_{\\rm al} = 7850 {\\rm kg/m}^3$    \n",
    "* Módulo de Elasticidade do Alumínio:    \n",
    "  $E_{\\rm al} = 71 \\times 10^{9} {\\rm N/m}^2$ \n",
    "* Rigidez à flexão:   \n",
    "  $E_{\\rm al}\\times I = 4.27 \\times 10^{-2} Nm^2 $\n",
    "* Massa do Pavimento Superior:    \n",
    "  $m_{\\rm 1} = 128  {g}$ \n",
    "* Massa do Pavimento Inferior:    \n",
    "  $m_{\\rm 2} = 105  {g}$ \n",
    "\n",
    "<img src=\"resources/shear building1.png\" alt=\"sag_tension\" width=\"480px\"/>\n",
    "<img src=\"resources/shear building2.png\" alt=\"sag_tension\" width=\"480px\"/>\n"
   ]
  },
  {
   "cell_type": "markdown",
   "metadata": {},
   "source": [
    "### 2.1 Cálculo da Frenquencia Natural do Modelo <a name=\"section_21\"></a> \n",
    "\n",
    "### 2.1.1 Parâmetros Iniciais <a name=\"section_2\"></a> \n"
   ]
  },
  {
   "cell_type": "code",
   "execution_count": 54,
   "metadata": {
    "scrolled": true
   },
   "outputs": [
    {
     "name": "stdout",
     "output_type": "stream",
     "text": [
      "0.8958784693666932\n"
     ]
    }
   ],
   "source": [
    "L  = 0.16\n",
    "EI = 71e9*(0.02*0.0006**3)/12\n",
    "k  = 12*EI/L/L/L\n",
    "\n",
    "m1 = .141577802500\n",
    "\n",
    "\n",
    "\n",
    "\n",
    "\n",
    "m2 = .126836505000\n",
    "\n",
    "\n",
    "\n",
    "print (m2/m1)"
   ]
  },
  {
   "cell_type": "markdown",
   "metadata": {},
   "source": [
    "### 2.1.2 Matrizes de Rigidez e de Massa <a name=\"section_2\"></a> \n"
   ]
  },
  {
   "cell_type": "code",
   "execution_count": 55,
   "metadata": {},
   "outputs": [
    {
     "name": "stdout",
     "output_type": "stream",
     "text": [
      "Matriz de rigidez\n",
      " [[ 149.765625 -149.765625]\n",
      " [-149.765625  299.53125 ]]\n",
      "\n",
      "Matriz de Massa (lumped)\n",
      " [[0.1415778 0.       ]\n",
      " [0.        0.1268365]]\n"
     ]
    }
   ],
   "source": [
    "\n",
    "# Stiffness coefficients in N/m\n",
    "K = np.array ([[ 2*k, -2*k], \n",
    "               [-2*k,  4*k]])\n",
    "\n",
    "\n",
    "# Lumped mass matrix in kg\n",
    "\n",
    "\n",
    "M = np.array([ [m1,  0,], \n",
    "               [0,  m2,]])\n",
    "\n",
    "print (\"Matriz de rigidez\\n\",K)\n",
    "print (\"\\nMatriz de Massa (lumped)\\n\",M)"
   ]
  },
  {
   "cell_type": "markdown",
   "metadata": {},
   "source": [
    "### 2.1.3 Frequencias e Modos de Vibração <a name=\"section_2\"></a> \n"
   ]
  },
  {
   "cell_type": "code",
   "execution_count": 56,
   "metadata": {},
   "outputs": [
    {
     "name": "stdout",
     "output_type": "stream",
     "text": [
      "First vibration mode:   3.25Hz, [ 0.855  0.519]\n",
      "Second vibration mode:  8.72Hz, [-0.478  0.879]\n"
     ]
    },
    {
     "data": {
      "image/png": "[encoded data removed]",
      "text/plain": [
       "<Figure size 1152x432 with 2 Axes>"
      ]
     },
     "metadata": {
      "needs_background": "light"
     },
     "output_type": "display_data"
    }
   ],
   "source": [
    "# Uses scipy to solve the standard eigenvalue problem\n",
    "w2, Phi = sc.eig(K, M)\n",
    "\n",
    "# Ensure ascending order of eigenvalues\n",
    "iw  = w2.argsort()\n",
    "w2  = w2[iw]\n",
    "Phi = Phi[:,iw]\n",
    "\n",
    "# Eigenvalues to vibration frequencies\n",
    "wk  = np.sqrt(np.real(w2)) \n",
    "fk  = wk/2/np.pi\n",
    "\n",
    "print('First vibration mode:  {0:5.2f}Hz, [{1:6.3f} {2:6.3f}]'.format(fk[0], *Phi[:,0]))\n",
    "print('Second vibration mode: {0:5.2f}Hz, [{1:6.3f} {2:6.3f}]'.format(fk[1], *Phi[:,1]))\n",
    "\n",
    "## Plotagem dos 3 primeiros modos de vibração da estrutura\n",
    "plt.figure(1, figsize=(16,6))\n",
    "x = np.linspace(0,2*L,3)\n",
    "\n",
    "for k in range(2):\n",
    "    pk = np.zeros(3)\n",
    "    pk[1:] = Phi[::-1,k]\n",
    "    pk /=np.max(np.abs(pk))\n",
    "    plt.subplot(1,2,k+1)\n",
    "    \n",
    "    ## Linhas Horizontais\n",
    "    for n in range(2):\n",
    "        o = np.linspace(pk[n+1],pk[n+1]+.5,2)\n",
    "        y1 = np.ones(2)*n*L+L\n",
    "        plt.plot(o, y1, 'b')\n",
    "    \n",
    "    ## Pontos\n",
    "    plt.plot(pk[1:],x[1:],'bo')\n",
    "    plt.plot(pk[1:]+.5, x[1:], 'bo')\n",
    "    \n",
    "    ## Linhas Verticais\n",
    "    plt.plot(pk,x,'b')\n",
    "    plt.plot(pk+.5, x,'b')\n",
    "\n",
    "#    plt.xlim(-1.5, 1.5); plt.ylabel(\"Altura [cm]\");\n",
    "    plt.ylim( 0.0, 2*L+.01);\n",
    "    plt.title('f= {0:3.2f}Hz'.format(fk[k]));\n",
    "    plt.grid(True)"
   ]
  },
  {
   "cell_type": "markdown",
   "metadata": {},
   "source": [
    "### 3. Estrutura Real <a name=\"section_3\"></a> \n",
    "\n",
    "Para efeturar os cálculos da estrutura real será necessário definir as 3 grandezas que formarão a nova base da matriz dimensional. Para o ensaio de excitar o modelo com suas frequências naturais, utiliza-se como nova base as grandezas de comprimento, aceleração e rigidez à flexão.\n",
    "Partiremos do premissa que os pavimentos do edifífio real tem massa de 30000kg"
   ]
  },
  {
   "cell_type": "code",
   "execution_count": 67,
   "metadata": {},
   "outputs": [
    {
     "name": "stdout",
     "output_type": "stream",
     "text": [
      "   L  M  T\n",
      "L  1  0  0\n",
      "a  1  0 -2\n",
      "m  0  1  0\n"
     ]
    }
   ],
   "source": [
    "ABC    = ['L', 'a', 'm']           \n",
    "LMT    = ['L', 'M', 'T']           \n",
    "base   =  DimData.loc[ABC, LMT]    \n",
    "i_base =  np.linalg.inv(base)      \n",
    "\n",
    "print(base)\n",
    "#print(i_base)"
   ]
  },
  {
   "cell_type": "markdown",
   "metadata": {},
   "source": [
    "As escalas para as grandezas adotadas para a nova base são:"
   ]
  },
  {
   "cell_type": "code",
   "execution_count": 68,
   "metadata": {},
   "outputs": [],
   "source": [
    "λ_L    =  25/1               # Escala de comprimento do modelo real\n",
    "λ_a    =  1/1                # Escala de aceleração (gravidade)\n",
    "λ_m   =   (30*10**6)/128.80952       # Escala de massa\n"
   ]
  },
  {
   "cell_type": "markdown",
   "metadata": {},
   "source": [
    "Agora calcula-se as escalas para quantidades adicionais relevantes para construir a estrutura real e interpretar os resultados. Eles podem ser frequencias, f, rigidez à flexão, EI e a massa de cada pavimento, m. Primeiramente, preparamos a matriz dimensional para as quantidades selecionadas:"
   ]
  },
  {
   "cell_type": "code",
   "execution_count": 69,
   "metadata": {},
   "outputs": [
    {
     "name": "stdout",
     "output_type": "stream",
     "text": [
      "    L  M  T\n",
      "f   0  0 -1\n",
      "EI  3  1 -2\n",
      "m   0  1  0\n",
      "P   2  1 -3\n"
     ]
    }
   ],
   "source": [
    "par    = ['f', 'EI', 'm', 'P']                    # selected scales to be calculated\n",
    "npar   =  len(par)                           # number of quantities\n",
    "DimMat =  DimData.loc[par, LMT]              # the dimensional matrix\n",
    "\n",
    "print(DimMat)\n",
    "#print(i_base)                               "
   ]
  },
  {
   "cell_type": "markdown",
   "metadata": {},
   "source": [
    "Em seguida, altera-se a base da matriz dimensional:"
   ]
  },
  {
   "cell_type": "code",
   "execution_count": 70,
   "metadata": {},
   "outputs": [
    {
     "name": "stdout",
     "output_type": "stream",
     "text": [
      "      L    a    m\n",
      "f  -0.5  0.5  0.0\n",
      "EI  2.0  1.0  1.0\n",
      "m   0.0  0.0  1.0\n",
      "P   0.5  1.5  1.0\n"
     ]
    }
   ],
   "source": [
    "scales =  np.tile([λ_L, λ_a, λ_m],(npar,1))  # prepare for calculations\n",
    "\n",
    "NewMat = pd.DataFrame(data    = np.dot(DimMat, i_base),\n",
    "                      index   = DimMat.index,\n",
    "                      columns = ABC)\n",
    "print(NewMat)"
   ]
  },
  {
   "cell_type": "markdown",
   "metadata": {},
   "source": [
    "E finalmente, calcula-se as correspondentes escalas:"
   ]
  },
  {
   "cell_type": "code",
   "execution_count": 71,
   "metadata": {},
   "outputs": [
    {
     "name": "stdout",
     "output_type": "stream",
     "text": [
      "Escala de Frequencia:  λ_f  = 1:5.00 \n",
      "Escala de Rigidez:     λ_EI = 1:0.0000000069 \n",
      "Escala de Massa:       λ_m  = 1:0.0000042937 \n",
      "Escala de Potencia:    λ_P  = 1:0.0000008587\n"
     ]
    }
   ],
   "source": [
    "[λ_f, λ_EI, λ_m, λ_P]  = np.prod(scales**NewMat, axis=1);\n",
    "\n",
    "print('Escala de Frequencia:  λ_f  = 1:{0:4.2f}'.format(1/λ_f),  '\\n'\n",
    "      'Escala de Rigidez:     λ_EI = 1:{0:4.10f}'.format(1/λ_EI), '\\n'\n",
    "      'Escala de Massa:       λ_m  = 1:{0:4.10f}'.format(1/λ_m),  '\\n'\n",
    "      'Escala de Potencia:    λ_P  = 1:{0:4.10f}'.format(1/λ_P))"
   ]
  },
  {
   "cell_type": "code",
   "execution_count": 72,
   "metadata": {},
   "outputs": [
    {
     "name": "stdout",
     "output_type": "stream",
     "text": [
      "Massa do Pavimento:      32974kg\n",
      "Rigidez da Estrutura:    3720610Nm²\n",
      "Comprimento da Coluna:    4.00m\n",
      "Primeira Frequencia:      0.65Hz\n",
      "Segunda Frequencia:       1.74Hz\n"
     ]
    }
   ],
   "source": [
    "print('Massa do Pavimento:      {0:5.0f}kg'.format(m1*λ_m))\n",
    "print('Rigidez da Estrutura:    {0:5.0f}Nm²'.format(EI*λ_EI))\n",
    "print('Comprimento da Coluna:   {0:5.2f}m'.format(L*λ_L))\n",
    "print('Primeira Frequencia:     {0:5.2f}Hz'.format(fk[0]*λ_f))\n",
    "print('Segunda Frequencia:      {0:5.2f}Hz'.format(fk[1]*λ_f))\n"
   ]
  },
  {
   "cell_type": "markdown",
   "metadata": {},
   "source": [
    "A seguir calcula-se as dimensões da coluna da estrutura real em concreto armado:\n",
    "\n",
    "* Altura das Colunas:    \n",
    "  $L_{\\rm 1} = 4.0  {\\rm m}$    \n",
    "* Peso Específico do Concreto:    \n",
    "  $\\rho_{\\rm c} = 2500 {\\rm kg/m}^3$    \n",
    "* Módulo de Elasticidade do Concreto:    \n",
    "  $E_{\\rm c} = 30 \\times 10^{9} {\\rm N/m}^2$\n",
    "  \n",
    " Supondo uma coluna de 15cm de lado, descobriremos a outra dimensão da coluna de concreto:\n",
    "  \n",
    "  $$E_{\\rm c}\\times I_{\\rm c} = E_{\\rm c}\\times \\left ( \\frac {b \\times h^{3}}{12} \\right)$$\n",
    "  \n",
    "  $$b = \\frac {12 \\times E_{\\rm c}\\times I_{\\rm c}} {E_{\\rm c} \\times h^{3}}$$\n",
    "  \n",
    "\n"
   ]
  },
  {
   "cell_type": "code",
   "execution_count": 73,
   "metadata": {},
   "outputs": [
    {
     "name": "stdout",
     "output_type": "stream",
     "text": [
      "Largura da coluna:      22.05cm\n"
     ]
    }
   ],
   "source": [
    "Ec = 30*10**9\n",
    "h  = 15 \n",
    "b = 12*EI*λ_EI/(Ec*(h/100)**3)/2\n",
    "\n",
    "print('Largura da coluna:      {0:5.2f}cm'.format(b*100))"
   ]
  },
  {
   "cell_type": "markdown",
   "metadata": {},
   "source": [
    "### 4. Análise de Propagação de Erro <a name=\"section_4\"></a> \n",
    "\n",
    "XXX"
   ]
  },
  {
   "cell_type": "code",
   "execution_count": 74,
   "metadata": {},
   "outputs": [
    {
     "name": "stdout",
     "output_type": "stream",
     "text": [
      "-------------------------------------------- \n",
      " Espessura média da coluna:           0.60417mm \n",
      " Desvio padrão da espessura:         0.03200mm \n",
      " Largura média da coluna:            20.49167mm \n",
      " Desvio padrão da largura:          0.27221mm \n",
      " --------------------------------------------\n"
     ]
    }
   ],
   "source": [
    "m_e = [ 0.55, 0.60, 0.65, 0.60, 0.65, 0.60, 0.60, 0.65, 0.55, 0.6, 0.6, 0.6]        #espessura das colunas em mm\n",
    "m_L = [20.60,20.40,20.90,21.00,20.70,20.70,20.30,20.10,20.20,20.4,20.3,20.3]   #largura das colunas mm\n",
    "\n",
    "mi_e = np.mean(m_e)\n",
    "sigma_e = np.std(m_e)\n",
    "\n",
    "mi_L = np.mean(m_L)\n",
    "sigma_L = np.std(m_L)\n",
    "\n",
    "print('--------------------------------------------','\\n',\n",
    "      'Espessura média da coluna:           {0:5.5f}mm'.format(mi_e),'\\n',\n",
    "      'Desvio padrão da espessura:         {0:5.5f}mm'.format(sigma_e),'\\n',\n",
    "      'Largura média da coluna:            {0:5.5f}mm'.format(mi_L),'\\n',\n",
    "      'Desvio padrão da largura:          {0:5.5f}mm'.format(sigma_L),'\\n',\n",
    "      '--------------------------------------------')"
   ]
  },
  {
   "cell_type": "code",
   "execution_count": 77,
   "metadata": {},
   "outputs": [
    {
     "name": "stdout",
     "output_type": "stream",
     "text": [
      "--------------------------------------- \n",
      " Valor médio da frequência:     3.32hz \n",
      " Valor do erro:                 0.26hz \n",
      " Coeficiente de variação:       7.96% \n",
      " --------------------------------------\n",
      "--------------------------------------- \n",
      " Valor médio da frequência:     8.93hz \n",
      " Valor do erro:                 0.71hz \n",
      " Coeficiente de variação:       7.96% \n",
      " --------------------------------------\n"
     ]
    }
   ],
   "source": [
    "E = 71e9\n",
    "#----------------------------------#\n",
    "h = st.norm(mi_e/1000,sigma_e/1000)\n",
    "b = st.norm(mi_L/1000,sigma_L/1000) \n",
    "    \n",
    "def autoval(E,b,h,L,m1,m2):\n",
    "    I = (b*h**3)/12\n",
    "    K = 12*E*I/(L*L*L)\n",
    "    M_K = np.array([[2*K,-2*K],\n",
    "                   [-2*K, 4*K]])\n",
    "    \n",
    "    M = np.array([ [m1,  0,], \n",
    "               [0,  m2,]])\n",
    "    w21,Phi1 = sc.eig(M_K,M)\n",
    "\n",
    "\n",
    "\n",
    "    iw = w21.argsort()\n",
    "    w21 = w21[iw]                       \n",
    "    Phi1 = Phi1[:,iw]\n",
    "\n",
    "    wr = np.real(w21)\n",
    "    wk = np.sqrt(w21)\n",
    "    fk = wk/(2*np.pi)\n",
    "    \n",
    "    return fk[0],fk[1]\n",
    "#------------------------------------#\n",
    "n = 100000\n",
    "hh = h.rvs(n)\n",
    "bb = b.rvs(n)\n",
    "\n",
    "fi = []\n",
    "fi2 = []\n",
    "\n",
    "for i in range(n):\n",
    "    \n",
    "    f1,f2 = autoval(E,bb[i],hh[i],L,m1,m2)\n",
    "    fi += [f1]\n",
    "    fi2 += [f2]\n",
    "    \n",
    "mi_f = np.mean(fi)\n",
    "sigma_f = np.std(fi)\n",
    "print('---------------------------------------','\\n',\n",
    "      'Valor médio da frequência:    {0:5.2f}hz'.format(np.real(mi_f)),'\\n',\n",
    "      'Valor do erro:                {0:5.2f}hz' .format(sigma_f),'\\n',\n",
    "      'Coeficiente de variação:      {0:5.2f}%'.format(sigma_f/np.real(mi_f)*100),'\\n',\n",
    "      '--------------------------------------')\n",
    "\n",
    "mi_f2 = np.mean(fi2)\n",
    "sigma_f2 = np.std(fi2)\n",
    "print('---------------------------------------','\\n',\n",
    "      'Valor médio da frequência:    {0:5.2f}hz'.format(np.real(mi_f2)),'\\n',\n",
    "      'Valor do erro:                {0:5.2f}hz' .format(sigma_f2),'\\n',\n",
    "      'Coeficiente de variação:      {0:5.2f}%'.format(sigma_f2/np.real(mi_f2)*100),'\\n',\n",
    "      '--------------------------------------')"
   ]
  },
  {
   "cell_type": "code",
   "execution_count": null,
   "metadata": {},
   "outputs": [],
   "source": []
  },
  {
   "cell_type": "code",
   "execution_count": null,
   "metadata": {},
   "outputs": [],
   "source": []
  },
  {
   "cell_type": "code",
   "execution_count": null,
   "metadata": {},
   "outputs": [],
   "source": []
  },
  {
   "cell_type": "code",
   "execution_count": null,
   "metadata": {},
   "outputs": [],
   "source": []
  },
  {
   "cell_type": "code",
   "execution_count": null,
   "metadata": {},
   "outputs": [],
   "source": []
  },
  {
   "cell_type": "markdown",
   "metadata": {},
   "source": [
    "### 5. Instrumentação <a name=\"section_5\"></a> \n",
    "\n",
    "XXXX"
   ]
  },
  {
   "cell_type": "markdown",
   "metadata": {},
   "source": [
    "### 5. Análise do Sinal <a name=\"section_6\"></a> \n",
    "\n",
    "XXX"
   ]
  },
  {
   "cell_type": "markdown",
   "metadata": {},
   "source": [
    "### 7. Conclusões <a name=\"section_7\"></a> \n",
    "\n",
    "XXX"
   ]
  },
  {
   "cell_type": "code",
   "execution_count": null,
   "metadata": {},
   "outputs": [],
   "source": []
  },
  {
   "cell_type": "code",
   "execution_count": null,
   "metadata": {},
   "outputs": [],
   "source": []
  }
 ],
 "metadata": {
  "kernelspec": {
   "display_name": "Python 3",
   "language": "python",
   "name": "python3"
  },
  "language_info": {
   "codemirror_mode": {
    "name": "ipython",
    "version": 3
   },
   "file_extension": ".py",
   "mimetype": "text/x-python",
   "name": "python",
   "nbconvert_exporter": "python",
   "pygments_lexer": "ipython3",
   "version": "3.7.3"
  }
 },
 "nbformat": 4,
 "nbformat_minor": 2
}
