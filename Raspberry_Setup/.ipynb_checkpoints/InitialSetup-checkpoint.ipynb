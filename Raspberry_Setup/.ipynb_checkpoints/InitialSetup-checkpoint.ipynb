{
 "cells": [
  {
   "cell_type": "markdown",
   "metadata": {},
   "source": [
    "Universidade Federal do Rio Grande do Sul (UFRGS)   \n",
    "Programa de Pós-Graduação em Engenharia Civil (PPGEC)   \n",
    "\n",
    "# Configurações Iniciais do Raspberry Pi  \n",
    "\n",
    "\n",
    "[1.  Objetivo](#section_1)  \n",
    "[2.  Dispositivos Necessários](#section_2)  \n",
    "[3.  Instalação do Sistema Operacional](#section_3)     \n",
    "[4.  Modificando Código Fonte](#section_4)   \n",
    "[5.  Configuração VNC](#section_5)   \n",
    "[6.  GitHub e Raspberry Pi](#section_6)   \n",
    "[5.  ](#section_24)  \n",
    "[5.  ](#section_24)  \n",
    "[5.  ](#section_24)  \n",
    "[5.  ](#section_24)  \n"
   ]
  },
  {
   "cell_type": "markdown",
   "metadata": {},
   "source": [
    "## 1.   Objetivo <a name=\"section_1\"></a> \n",
    "O presente arquivo representa um breve tutorial de como configurar funcionalidades tanto do computador quanto Raspberry Pi Zero. Por meio destas, pode-se criar um ambiente de programação no dispositivo utilizando acesso remoto via USB. Todos os passos apresentados aqui foram aplicados no projeto do Atenuador Ativo."
   ]
  },
  {
   "cell_type": "markdown",
   "metadata": {},
   "source": [
    "## 2. Dispositivos Necessários  <a name=\"section_2\"></a> \n",
    "\n",
    "1 - Computador rodando Windows  \n",
    "2 - Raspberry Pi  \n",
    "3 - Cabo de dados USB  \n",
    "4 - Cartão de memória SD  \n",
    "5 - Leitor de cartão de memória"
   ]
  },
  {
   "cell_type": "markdown",
   "metadata": {},
   "source": [
    "## 3.   Instalação do Sistema Operacional <a name=\"section_3\"></a> "
   ]
  },
  {
   "cell_type": "markdown",
   "metadata": {},
   "source": [
    "O primeiro passo para instalar o sistema operacional utilizado no Raspberry Pi é fazer o download da imagem instalação do sistema Raspbian. Ela pode ser adquirida de forma gratuita no seguinte site: https://www.raspberrypi.org/downloads/raspbian/.  \n",
    "Recomenda-se que seja escolhida a versão mais completa, porém isso não é regra.  \n",
    "O passo seguinte é formatar o cartão de mémória. Isto pode ser feito por meio do programa SD Memory Card Formatter. Segue o link para download: https://www.sdcard.org/downloads/formatter/eula_windows/index.html.  \n",
    "A montagem da imagem de instalação é feita por meio do programa Win32 Disk Imager. Este procedimento é feito com o auxílio do leitor de cartão de memória. Segue o link para download: https://sourceforge.net/projects/win32diskimager/files/latest/download.  \n"
   ]
  },
  {
   "cell_type": "markdown",
   "metadata": {},
   "source": [
    "## 4. Modificando Código Fonte <a name=\"section_4\"></a>  \n",
    "Após instalado o sistema operacional, deve-se abrir o diretório onde se encontram o código fonte do sistema. Modificações em dois arquivos são necessárias:  \n",
    "1 - config.txt  \n",
    "Abra este arquivo com o WordPad. Vá até a última linha do código e adicione: dtoverlay=dwc2. Salve sem mudar a extensão do arquivo.  \n",
    "2 - cmdline.txt  \n",
    "Abra este arquivo com o WordPad. Na linha do código procure por 'rootwait' e adicione logo após: modules-load=dwc2,g_ether. Salve sem mudar a extensão do arquivo.\n"
   ]
  },
  {
   "cell_type": "code",
   "execution_count": null,
   "metadata": {},
   "outputs": [],
   "source": []
  }
 ],
 "metadata": {
  "kernelspec": {
   "display_name": "Python 3",
   "language": "python",
   "name": "python3"
  },
  "language_info": {
   "codemirror_mode": {
    "name": "ipython",
    "version": 3
   },
   "file_extension": ".py",
   "mimetype": "text/x-python",
   "name": "python",
   "nbconvert_exporter": "python",
   "pygments_lexer": "ipython3",
   "version": "3.7.3"
  }
 },
 "nbformat": 4,
 "nbformat_minor": 2
}
